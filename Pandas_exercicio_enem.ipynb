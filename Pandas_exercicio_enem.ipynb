{
  "nbformat": 4,
  "nbformat_minor": 0,
  "metadata": {
    "kernelspec": {
      "display_name": "Python 3",
      "language": "python",
      "name": "python3"
    },
    "language_info": {
      "codemirror_mode": {
        "name": "ipython",
        "version": 3
      },
      "file_extension": ".py",
      "mimetype": "text/x-python",
      "name": "python",
      "nbconvert_exporter": "python",
      "pygments_lexer": "ipython3",
      "version": "3.6.8"
    },
    "colab": {
      "name": "Pandas_exercicio_enem.ipynb",
      "provenance": []
    }
  },
  "cells": [
    {
      "cell_type": "markdown",
      "metadata": {
        "id": "4r1rODkvEwgc"
      },
      "source": [
        "# Exercícios"
      ]
    },
    {
      "cell_type": "code",
      "metadata": {
        "id": "AEvWNx-wEwgk"
      },
      "source": [
        "#Importação da biblioteca Pandas\n",
        "import pandas as pd"
      ],
      "execution_count": 2,
      "outputs": []
    },
    {
      "cell_type": "markdown",
      "metadata": {
        "id": "KjoSzpyQEwgm"
      },
      "source": [
        "## Base dados\n",
        "\n",
        "**Fonte da base de dados**\n",
        "\n",
        "Enem 1998  \n",
        "[Microdados do Exame Nacional do Ensino Médio - Enem](http://www.dados.gov.br/dataset/microdados-do-exame-nacional-do-ensino-medio-enem)  \n",
        "\n",
        "**Documentação da base de dados**  \n",
        "\n",
        "Para entender a base, acesse a descrição dos campos, disponível neste [link](https://docs.google.com/spreadsheets/d/1tKI5o9wBzBh_SaRccHJKwEzqIekqhyze/edit#gid=1105751035).\n",
        "\n",
        "**Carregamento da base**  \n",
        "\n",
        "Para carregar a base em um DataFrame Pandas, execute:\n",
        "Para acessar o arquivo com a base é necessário solicitar acesso ao Google Drive. No caso desta aula, a base de dados está compartilhada entre todos os alunos incluídos na turma do Google Classroom.\n",
        "\n",
        "**Google Colaboratory**  \n",
        "\n",
        "Para execuções utilizando o ambiente do Google Colab, execute o código abaixo. A primeira vez que for executado, será solicitado um código de acesso. Para obter esse código, basta clicar no link gerado e seguir as instruções.\n",
        "```python\n",
        "#Solicita acesso ao Google Drive\n",
        "from google.colab import drive\n",
        "drive.mount('/drive')\n",
        "\n",
        "#Carrega a base de dados direto do Google Drive (Executando no Google Colab)\n",
        "enem98 = pd.read_csv('/drive/Shared drives/BasesPublicas/Bases/ENEM/1998/MICRODADOS_ENEM_1998.csv', sep=';', encoding='latin1' )\n",
        "```\n",
        "**Jupyter**  \n",
        "\n",
        "Para execuções no Jupyter:\n",
        "```python\n",
        "#Colocar a base no mesmo diretório em que está executando o arquivo jupyter\n",
        "#enem98 = pd.read_csv('./MICRODADOS_ENEM_1998.csv', sep=';', encoding='latin1' )\n",
        "\n",
        "``` \n"
      ]
    },
    {
      "cell_type": "code",
      "metadata": {
        "id": "6KpSstoGEwgn",
        "outputId": "7a3dda27-a8d8-4290-90a7-904d258f6ad3",
        "colab": {
          "base_uri": "https://localhost:8080/"
        }
      },
      "source": [
        "# Solicita acesso ao Google Drive\n",
        "from google.colab import drive\n",
        "drive.mount('/drive')\n",
        " \n",
        "# Carrega a base de dados direto do Google Drive (Executando no Google Colab)\n",
        "enem98 = pd.read_csv('/drive/Shared drives/BasesPublicas/Bases/ENEM/1998/MICRODADOS_ENEM_1998.csv', sep=';', encoding='latin1' )"
      ],
      "execution_count": 3,
      "outputs": [
        {
          "output_type": "stream",
          "text": [
            "Mounted at /drive\n"
          ],
          "name": "stdout"
        }
      ]
    },
    {
      "cell_type": "code",
      "metadata": {
        "id": "riwg-XiuEwgr",
        "outputId": "baca349c-9c59-4b30-e8e3-76e7058c968a",
        "colab": {
          "base_uri": "https://localhost:8080/",
          "height": 270
        }
      },
      "source": [
        "enem98.head()"
      ],
      "execution_count": 4,
      "outputs": [
        {
          "output_type": "execute_result",
          "data": {
            "text/html": [
              "<div>\n",
              "<style scoped>\n",
              "    .dataframe tbody tr th:only-of-type {\n",
              "        vertical-align: middle;\n",
              "    }\n",
              "\n",
              "    .dataframe tbody tr th {\n",
              "        vertical-align: top;\n",
              "    }\n",
              "\n",
              "    .dataframe thead th {\n",
              "        text-align: right;\n",
              "    }\n",
              "</style>\n",
              "<table border=\"1\" class=\"dataframe\">\n",
              "  <thead>\n",
              "    <tr style=\"text-align: right;\">\n",
              "      <th></th>\n",
              "      <th>NU_INSCRICAO</th>\n",
              "      <th>NU_ANO</th>\n",
              "      <th>NU_IDADE</th>\n",
              "      <th>TP_SEXO</th>\n",
              "      <th>CO_MUNICIPIO_RESIDENCIA</th>\n",
              "      <th>NO_MUNICIPIO_RESIDENCIA</th>\n",
              "      <th>CO_UF_RESIDENCIA</th>\n",
              "      <th>SG_UF_RESIDENCIA</th>\n",
              "      <th>TP_PRESENCA</th>\n",
              "      <th>CO_PROVA</th>\n",
              "      <th>VL_PERC_COMP1</th>\n",
              "      <th>VL_PERC_COMP2</th>\n",
              "      <th>VL_PERC_COMP3</th>\n",
              "      <th>VL_PERC_COMP4</th>\n",
              "      <th>VL_PERC_COMP5</th>\n",
              "      <th>NU_NOTA_OBJETIVA</th>\n",
              "      <th>TX_RESPOSTAS_OBJETIVA</th>\n",
              "      <th>TX_GABARITO_OBJETIVA</th>\n",
              "      <th>TP_STATUS_REDACAO</th>\n",
              "      <th>NU_NOTA_COMP1</th>\n",
              "      <th>NU_NOTA_COMP2</th>\n",
              "      <th>NU_NOTA_COMP3</th>\n",
              "      <th>NU_NOTA_COMP4</th>\n",
              "      <th>NU_NOTA_COMP5</th>\n",
              "      <th>NU_NOTA_REDACAO</th>\n",
              "      <th>IN_QSE</th>\n",
              "      <th>Q1</th>\n",
              "      <th>Q2</th>\n",
              "      <th>Q3</th>\n",
              "      <th>Q4</th>\n",
              "      <th>Q5</th>\n",
              "      <th>Q6</th>\n",
              "      <th>Q7</th>\n",
              "      <th>Q8</th>\n",
              "      <th>Q9</th>\n",
              "      <th>Q10</th>\n",
              "      <th>Q11</th>\n",
              "      <th>Q12</th>\n",
              "      <th>Q13</th>\n",
              "      <th>Q14</th>\n",
              "      <th>...</th>\n",
              "      <th>Q98</th>\n",
              "      <th>Q99</th>\n",
              "      <th>Q100</th>\n",
              "      <th>Q101</th>\n",
              "      <th>Q102</th>\n",
              "      <th>Q103</th>\n",
              "      <th>Q104</th>\n",
              "      <th>Q105</th>\n",
              "      <th>Q106</th>\n",
              "      <th>Q107</th>\n",
              "      <th>Q108</th>\n",
              "      <th>Q109</th>\n",
              "      <th>Q110</th>\n",
              "      <th>Q111</th>\n",
              "      <th>Q112</th>\n",
              "      <th>Q113</th>\n",
              "      <th>Q114</th>\n",
              "      <th>Q115</th>\n",
              "      <th>Q116</th>\n",
              "      <th>Q117</th>\n",
              "      <th>Q118</th>\n",
              "      <th>Q119</th>\n",
              "      <th>Q120</th>\n",
              "      <th>Q121</th>\n",
              "      <th>Q122</th>\n",
              "      <th>Q123</th>\n",
              "      <th>Q124</th>\n",
              "      <th>Q125</th>\n",
              "      <th>Q126</th>\n",
              "      <th>Q127</th>\n",
              "      <th>Q128</th>\n",
              "      <th>Q129</th>\n",
              "      <th>Q130</th>\n",
              "      <th>Q131</th>\n",
              "      <th>Q132</th>\n",
              "      <th>Q133</th>\n",
              "      <th>Q134</th>\n",
              "      <th>Q135</th>\n",
              "      <th>Q136</th>\n",
              "      <th>Q137</th>\n",
              "    </tr>\n",
              "  </thead>\n",
              "  <tbody>\n",
              "    <tr>\n",
              "      <th>0</th>\n",
              "      <td>1</td>\n",
              "      <td>1998</td>\n",
              "      <td>19.0</td>\n",
              "      <td>F</td>\n",
              "      <td>2408003.0</td>\n",
              "      <td>MOSSORO</td>\n",
              "      <td>24.0</td>\n",
              "      <td>RN</td>\n",
              "      <td>1</td>\n",
              "      <td>B</td>\n",
              "      <td>43.3</td>\n",
              "      <td>33.3</td>\n",
              "      <td>36.1</td>\n",
              "      <td>33.3</td>\n",
              "      <td>36.7</td>\n",
              "      <td>38.1</td>\n",
              "      <td>BEACDBCABABAAACDDACECDDCABACBAAADEADBDCDAEDDEC...</td>\n",
              "      <td>BECDDCEDBABBCBCDECABECDEADBABACBBEADDDADADCEBE...</td>\n",
              "      <td>P</td>\n",
              "      <td>15</td>\n",
              "      <td>10</td>\n",
              "      <td>5</td>\n",
              "      <td>0</td>\n",
              "      <td>0</td>\n",
              "      <td>30</td>\n",
              "      <td>1</td>\n",
              "      <td>B</td>\n",
              "      <td>D</td>\n",
              "      <td>B</td>\n",
              "      <td>E</td>\n",
              "      <td>A</td>\n",
              "      <td>A</td>\n",
              "      <td>G</td>\n",
              "      <td>D</td>\n",
              "      <td>A</td>\n",
              "      <td>E</td>\n",
              "      <td>D</td>\n",
              "      <td>E</td>\n",
              "      <td>F</td>\n",
              "      <td>B</td>\n",
              "      <td>...</td>\n",
              "      <td>.</td>\n",
              "      <td>.</td>\n",
              "      <td>.</td>\n",
              "      <td>.</td>\n",
              "      <td>.</td>\n",
              "      <td>.</td>\n",
              "      <td>.</td>\n",
              "      <td>.</td>\n",
              "      <td>.</td>\n",
              "      <td>.</td>\n",
              "      <td>.</td>\n",
              "      <td>.</td>\n",
              "      <td>.</td>\n",
              "      <td>.</td>\n",
              "      <td>.</td>\n",
              "      <td>.</td>\n",
              "      <td>.</td>\n",
              "      <td>.</td>\n",
              "      <td>.</td>\n",
              "      <td>.</td>\n",
              "      <td>.</td>\n",
              "      <td>D</td>\n",
              "      <td>E</td>\n",
              "      <td>B</td>\n",
              "      <td>D</td>\n",
              "      <td>B</td>\n",
              "      <td>B</td>\n",
              "      <td>B</td>\n",
              "      <td>A</td>\n",
              "      <td>B</td>\n",
              "      <td>A</td>\n",
              "      <td>B</td>\n",
              "      <td>A</td>\n",
              "      <td>B</td>\n",
              "      <td>B</td>\n",
              "      <td>B</td>\n",
              "      <td>B</td>\n",
              "      <td>B</td>\n",
              "      <td>B</td>\n",
              "      <td>B</td>\n",
              "    </tr>\n",
              "    <tr>\n",
              "      <th>1</th>\n",
              "      <td>2</td>\n",
              "      <td>1998</td>\n",
              "      <td>17.0</td>\n",
              "      <td>F</td>\n",
              "      <td>2401453.0</td>\n",
              "      <td>BARAUNA</td>\n",
              "      <td>24.0</td>\n",
              "      <td>RN</td>\n",
              "      <td>1</td>\n",
              "      <td>B</td>\n",
              "      <td>23.3</td>\n",
              "      <td>31.0</td>\n",
              "      <td>27.8</td>\n",
              "      <td>16.7</td>\n",
              "      <td>26.7</td>\n",
              "      <td>28.6</td>\n",
              "      <td>CBCAEBDBBBBBCACCBCEDEADDCECCAEAADAACEECCEDCBCC...</td>\n",
              "      <td>BECDDCEDBABBCBCDECABECDEADBABACBBEADDDADADCEBE...</td>\n",
              "      <td>P</td>\n",
              "      <td>0</td>\n",
              "      <td>10</td>\n",
              "      <td>5</td>\n",
              "      <td>0</td>\n",
              "      <td>0</td>\n",
              "      <td>15</td>\n",
              "      <td>1</td>\n",
              "      <td>B</td>\n",
              "      <td>B</td>\n",
              "      <td>A</td>\n",
              "      <td>B</td>\n",
              "      <td>A</td>\n",
              "      <td>A</td>\n",
              "      <td>G</td>\n",
              "      <td>D</td>\n",
              "      <td>A</td>\n",
              "      <td>B</td>\n",
              "      <td>F</td>\n",
              "      <td>C</td>\n",
              "      <td>L</td>\n",
              "      <td>B</td>\n",
              "      <td>...</td>\n",
              "      <td>B</td>\n",
              "      <td>.</td>\n",
              "      <td>.</td>\n",
              "      <td>.</td>\n",
              "      <td>.</td>\n",
              "      <td>.</td>\n",
              "      <td>.</td>\n",
              "      <td>.</td>\n",
              "      <td>.</td>\n",
              "      <td>.</td>\n",
              "      <td>.</td>\n",
              "      <td>.</td>\n",
              "      <td>.</td>\n",
              "      <td>.</td>\n",
              "      <td>.</td>\n",
              "      <td>.</td>\n",
              "      <td>.</td>\n",
              "      <td>.</td>\n",
              "      <td>.</td>\n",
              "      <td>.</td>\n",
              "      <td>.</td>\n",
              "      <td>B</td>\n",
              "      <td>C</td>\n",
              "      <td>B</td>\n",
              "      <td>C</td>\n",
              "      <td>A</td>\n",
              "      <td>A</td>\n",
              "      <td>B</td>\n",
              "      <td>A</td>\n",
              "      <td>B</td>\n",
              "      <td>B</td>\n",
              "      <td>B</td>\n",
              "      <td>A</td>\n",
              "      <td>A</td>\n",
              "      <td>B</td>\n",
              "      <td>C</td>\n",
              "      <td>A</td>\n",
              "      <td>A</td>\n",
              "      <td>A</td>\n",
              "      <td>A</td>\n",
              "    </tr>\n",
              "    <tr>\n",
              "      <th>2</th>\n",
              "      <td>3</td>\n",
              "      <td>1998</td>\n",
              "      <td>18.0</td>\n",
              "      <td>M</td>\n",
              "      <td>2408003.0</td>\n",
              "      <td>MOSSORO</td>\n",
              "      <td>24.0</td>\n",
              "      <td>RN</td>\n",
              "      <td>1</td>\n",
              "      <td>Z</td>\n",
              "      <td>46.7</td>\n",
              "      <td>50.0</td>\n",
              "      <td>50.0</td>\n",
              "      <td>45.8</td>\n",
              "      <td>36.7</td>\n",
              "      <td>49.2</td>\n",
              "      <td>DEBDABDDCCDBDBCACCECBDCECDDBDEAADBBDCEDACEBEBA...</td>\n",
              "      <td>DABEDADDCECBEBBBCBACBDEECADBADADDBADCEBEABCDBC...</td>\n",
              "      <td>P</td>\n",
              "      <td>15</td>\n",
              "      <td>10</td>\n",
              "      <td>15</td>\n",
              "      <td>0</td>\n",
              "      <td>0</td>\n",
              "      <td>40</td>\n",
              "      <td>1</td>\n",
              "      <td>A</td>\n",
              "      <td>C</td>\n",
              "      <td>A</td>\n",
              "      <td>B</td>\n",
              "      <td>B</td>\n",
              "      <td>G</td>\n",
              "      <td>B</td>\n",
              "      <td>D</td>\n",
              "      <td>A</td>\n",
              "      <td>B</td>\n",
              "      <td>B</td>\n",
              "      <td>A</td>\n",
              "      <td>L</td>\n",
              "      <td>B</td>\n",
              "      <td>...</td>\n",
              "      <td>.</td>\n",
              "      <td>.</td>\n",
              "      <td>.</td>\n",
              "      <td>.</td>\n",
              "      <td>.</td>\n",
              "      <td>.</td>\n",
              "      <td>.</td>\n",
              "      <td>.</td>\n",
              "      <td>.</td>\n",
              "      <td>.</td>\n",
              "      <td>.</td>\n",
              "      <td>.</td>\n",
              "      <td>.</td>\n",
              "      <td>.</td>\n",
              "      <td>.</td>\n",
              "      <td>.</td>\n",
              "      <td>.</td>\n",
              "      <td>.</td>\n",
              "      <td>.</td>\n",
              "      <td>.</td>\n",
              "      <td>.</td>\n",
              "      <td>D</td>\n",
              "      <td>H</td>\n",
              "      <td>A</td>\n",
              "      <td>A</td>\n",
              "      <td>A</td>\n",
              "      <td>A</td>\n",
              "      <td>A</td>\n",
              "      <td>A</td>\n",
              "      <td>A</td>\n",
              "      <td>A</td>\n",
              "      <td>A</td>\n",
              "      <td>A</td>\n",
              "      <td>A</td>\n",
              "      <td>C</td>\n",
              "      <td>C</td>\n",
              "      <td>C</td>\n",
              "      <td>C</td>\n",
              "      <td>C</td>\n",
              "      <td>C</td>\n",
              "    </tr>\n",
              "    <tr>\n",
              "      <th>3</th>\n",
              "      <td>4</td>\n",
              "      <td>1998</td>\n",
              "      <td>18.0</td>\n",
              "      <td>M</td>\n",
              "      <td>2408003.0</td>\n",
              "      <td>MOSSORO</td>\n",
              "      <td>24.0</td>\n",
              "      <td>RN</td>\n",
              "      <td>1</td>\n",
              "      <td>G</td>\n",
              "      <td>30.0</td>\n",
              "      <td>40.5</td>\n",
              "      <td>41.7</td>\n",
              "      <td>41.7</td>\n",
              "      <td>20.0</td>\n",
              "      <td>34.9</td>\n",
              "      <td>AEBBDDBAAA CDBCBDCDBCDDEEACEDBCABDABCAB*BDDCCD...</td>\n",
              "      <td>DAACDDCBACDCEAEDBBBBCCDEBACECBEDBAABACBBEDDADA...</td>\n",
              "      <td>P</td>\n",
              "      <td>30</td>\n",
              "      <td>10</td>\n",
              "      <td>10</td>\n",
              "      <td>0</td>\n",
              "      <td>0</td>\n",
              "      <td>50</td>\n",
              "      <td>1</td>\n",
              "      <td>A</td>\n",
              "      <td>C</td>\n",
              "      <td>B</td>\n",
              "      <td>C</td>\n",
              "      <td>A</td>\n",
              "      <td>A</td>\n",
              "      <td>E</td>\n",
              "      <td>B</td>\n",
              "      <td>A</td>\n",
              "      <td>B</td>\n",
              "      <td>.</td>\n",
              "      <td>B</td>\n",
              "      <td>L</td>\n",
              "      <td>B</td>\n",
              "      <td>...</td>\n",
              "      <td>.</td>\n",
              "      <td>.</td>\n",
              "      <td>.</td>\n",
              "      <td>.</td>\n",
              "      <td>.</td>\n",
              "      <td>.</td>\n",
              "      <td>.</td>\n",
              "      <td>.</td>\n",
              "      <td>.</td>\n",
              "      <td>.</td>\n",
              "      <td>.</td>\n",
              "      <td>.</td>\n",
              "      <td>.</td>\n",
              "      <td>.</td>\n",
              "      <td>.</td>\n",
              "      <td>.</td>\n",
              "      <td>.</td>\n",
              "      <td>.</td>\n",
              "      <td>.</td>\n",
              "      <td>.</td>\n",
              "      <td>.</td>\n",
              "      <td>D</td>\n",
              "      <td>C</td>\n",
              "      <td>A</td>\n",
              "      <td>B</td>\n",
              "      <td>A</td>\n",
              "      <td>A</td>\n",
              "      <td>A</td>\n",
              "      <td>A</td>\n",
              "      <td>A</td>\n",
              "      <td>B</td>\n",
              "      <td>B</td>\n",
              "      <td>A</td>\n",
              "      <td>A</td>\n",
              "      <td>C</td>\n",
              "      <td>C</td>\n",
              "      <td>B</td>\n",
              "      <td>B</td>\n",
              "      <td>B</td>\n",
              "      <td>B</td>\n",
              "    </tr>\n",
              "    <tr>\n",
              "      <th>4</th>\n",
              "      <td>5</td>\n",
              "      <td>1998</td>\n",
              "      <td>21.0</td>\n",
              "      <td>M</td>\n",
              "      <td>2413102.0</td>\n",
              "      <td>SENADOR ELOI DE SOUZA</td>\n",
              "      <td>24.0</td>\n",
              "      <td>RN</td>\n",
              "      <td>1</td>\n",
              "      <td>A</td>\n",
              "      <td>43.3</td>\n",
              "      <td>40.5</td>\n",
              "      <td>38.9</td>\n",
              "      <td>29.2</td>\n",
              "      <td>43.3</td>\n",
              "      <td>36.5</td>\n",
              "      <td>CEDBBBABCBBABDDABEDDDBACCAAABADBAACBEBCDEBDDDB...</td>\n",
              "      <td>CDBEBDAADBBEDDDEAECBABCABBCACADABABCEBCECDDDAB...</td>\n",
              "      <td>P</td>\n",
              "      <td>30</td>\n",
              "      <td>10</td>\n",
              "      <td>15</td>\n",
              "      <td>0</td>\n",
              "      <td>0</td>\n",
              "      <td>55</td>\n",
              "      <td>1</td>\n",
              "      <td>A</td>\n",
              "      <td>F</td>\n",
              "      <td>A</td>\n",
              "      <td>A</td>\n",
              "      <td>B</td>\n",
              "      <td>G</td>\n",
              "      <td>B</td>\n",
              "      <td>D</td>\n",
              "      <td>A</td>\n",
              "      <td>A</td>\n",
              "      <td>F</td>\n",
              "      <td>B</td>\n",
              "      <td>L</td>\n",
              "      <td>E</td>\n",
              "      <td>...</td>\n",
              "      <td>B</td>\n",
              "      <td>.</td>\n",
              "      <td>.</td>\n",
              "      <td>.</td>\n",
              "      <td>.</td>\n",
              "      <td>.</td>\n",
              "      <td>.</td>\n",
              "      <td>.</td>\n",
              "      <td>.</td>\n",
              "      <td>.</td>\n",
              "      <td>.</td>\n",
              "      <td>.</td>\n",
              "      <td>.</td>\n",
              "      <td>.</td>\n",
              "      <td>.</td>\n",
              "      <td>.</td>\n",
              "      <td>.</td>\n",
              "      <td>.</td>\n",
              "      <td>.</td>\n",
              "      <td>.</td>\n",
              "      <td>.</td>\n",
              "      <td>A</td>\n",
              "      <td>B</td>\n",
              "      <td>A</td>\n",
              "      <td>B</td>\n",
              "      <td>A</td>\n",
              "      <td>B</td>\n",
              "      <td>A</td>\n",
              "      <td>A</td>\n",
              "      <td>B</td>\n",
              "      <td>A</td>\n",
              "      <td>A</td>\n",
              "      <td>A</td>\n",
              "      <td>A</td>\n",
              "      <td>B</td>\n",
              "      <td>C</td>\n",
              "      <td>B</td>\n",
              "      <td>B</td>\n",
              "      <td>B</td>\n",
              "      <td>B</td>\n",
              "    </tr>\n",
              "  </tbody>\n",
              "</table>\n",
              "<p>5 rows × 163 columns</p>\n",
              "</div>"
            ],
            "text/plain": [
              "   NU_INSCRICAO  NU_ANO  NU_IDADE TP_SEXO  ...  Q134 Q135  Q136 Q137\n",
              "0             1    1998      19.0       F  ...     B    B     B    B\n",
              "1             2    1998      17.0       F  ...     A    A     A    A\n",
              "2             3    1998      18.0       M  ...     C    C     C    C\n",
              "3             4    1998      18.0       M  ...     B    B     B    B\n",
              "4             5    1998      21.0       M  ...     B    B     B    B\n",
              "\n",
              "[5 rows x 163 columns]"
            ]
          },
          "metadata": {
            "tags": []
          },
          "execution_count": 4
        }
      ]
    },
    {
      "cell_type": "markdown",
      "metadata": {
        "id": "hBXD9-JBEwgs"
      },
      "source": [
        "**Exercícios**\n",
        "\n",
        "Sobre a base de dados referente ao ENEM do ano de 1998, responda as questões abaixo utilizando a biblioteca Pandas."
      ]
    },
    {
      "cell_type": "markdown",
      "metadata": {
        "id": "LE1rI0UwEwgt"
      },
      "source": [
        "Sobre a base:\n",
        "1. Quantas linhas existem na base?\n",
        "1. Quantas colunas existem?"
      ]
    },
    {
      "cell_type": "code",
      "metadata": {
        "id": "yzsLCZyuEwgu",
        "outputId": "dc98b4bd-c638-4d08-ccaa-0293d8fbf7e7",
        "colab": {
          "base_uri": "https://localhost:8080/"
        }
      },
      "source": [
        "linhas = enem98.shape[0]\n",
        "print(f'Tem {linhas} linhas')"
      ],
      "execution_count": 40,
      "outputs": [
        {
          "output_type": "stream",
          "text": [
            "Tem 157221 linhas\n"
          ],
          "name": "stdout"
        }
      ]
    },
    {
      "cell_type": "markdown",
      "metadata": {
        "id": "tUaOoreqIjB_"
      },
      "source": [
        "1ª forma"
      ]
    },
    {
      "cell_type": "code",
      "metadata": {
        "id": "vOO9RkBeIePG",
        "outputId": "f41d6818-d785-4315-dd06-feaa8fa40557",
        "colab": {
          "base_uri": "https://localhost:8080/"
        }
      },
      "source": [
        "colunas = enem98.shape[1]\n",
        "print(f'Tem {colunas} colunas')"
      ],
      "execution_count": 41,
      "outputs": [
        {
          "output_type": "stream",
          "text": [
            "Tem 163 colunas\n"
          ],
          "name": "stdout"
        }
      ]
    },
    {
      "cell_type": "markdown",
      "metadata": {
        "id": "FrKqG35nImVm"
      },
      "source": [
        "2ª forma"
      ]
    },
    {
      "cell_type": "code",
      "metadata": {
        "id": "k8ckdvTSFrxe",
        "outputId": "64158346-51bf-41b1-fb64-ddcb759fa252",
        "colab": {
          "base_uri": "https://localhost:8080/"
        }
      },
      "source": [
        "x = enem98.columns.to_list()\n",
        "print(f'Tem {len(x)} colunas')"
      ],
      "execution_count": 35,
      "outputs": [
        {
          "output_type": "stream",
          "text": [
            "Tem 163 colunas\n"
          ],
          "name": "stdout"
        }
      ]
    },
    {
      "cell_type": "markdown",
      "metadata": {
        "id": "LTmk9ifSEwgu"
      },
      "source": [
        "Obtenha cada informação solicitada a seguir:\n",
        "- Quantos alunos foram matriculados?"
      ]
    },
    {
      "cell_type": "code",
      "metadata": {
        "id": "SJF6WJZ6Ewgv",
        "outputId": "874fc4e6-ff46-4ae6-f495-217a36e0a69f",
        "colab": {
          "base_uri": "https://localhost:8080/"
        }
      },
      "source": [
        "matriculas = enem98['NU_INSCRICAO'].count()\n",
        "print(f'Tiveram {matriculas} matriculas')"
      ],
      "execution_count": 49,
      "outputs": [
        {
          "output_type": "stream",
          "text": [
            "Tiveram 157221 matriculas\n"
          ],
          "name": "stdout"
        }
      ]
    },
    {
      "cell_type": "markdown",
      "metadata": {
        "id": "KtM4dkIkEwgv"
      },
      "source": [
        "- Quantos alunos matricularam-se no ENEM por estado?"
      ]
    },
    {
      "cell_type": "code",
      "metadata": {
        "id": "4c_XvRf_Ewgw",
        "outputId": "75445024-fdfa-40c1-c329-db1d44b79a58",
        "colab": {
          "base_uri": "https://localhost:8080/"
        }
      },
      "source": [
        "enem98['SG_UF_RESIDENCIA'].value_counts()"
      ],
      "execution_count": 52,
      "outputs": [
        {
          "output_type": "execute_result",
          "data": {
            "text/plain": [
              "PR    53722\n",
              "RJ    36908\n",
              "MG    23412\n",
              "PE    10295\n",
              "SP     8845\n",
              "RN     4492\n",
              "ES     3013\n",
              "MT     1726\n",
              "SC     1313\n",
              "MS     1159\n",
              "RS      997\n",
              "RR      967\n",
              "CE      667\n",
              "AC      570\n",
              "GO      479\n",
              "AM      456\n",
              "SE      344\n",
              "PB      303\n",
              "PA      288\n",
              "DF      243\n",
              "BA      180\n",
              "AL      166\n",
              "RO      111\n",
              "PI      103\n",
              "MA       90\n",
              "TO       48\n",
              "AP       47\n",
              "Name: SG_UF_RESIDENCIA, dtype: int64"
            ]
          },
          "metadata": {
            "tags": []
          },
          "execution_count": 52
        }
      ]
    },
    {
      "cell_type": "markdown",
      "metadata": {
        "id": "rzqKpOusEwgw"
      },
      "source": [
        "- Quantos estudantes matriculados não realizaram a prova?"
      ]
    },
    {
      "cell_type": "code",
      "metadata": {
        "id": "qQGJwLBzEwgw",
        "outputId": "6d314ffc-556b-4f8d-d0bd-a3ff135dee02",
        "colab": {
          "base_uri": "https://localhost:8080/"
        }
      },
      "source": [
        "idx = enem98['TP_PRESENCA'] == 0\n",
        "faltas = enem98[idx]['NU_INSCRICAO'].count()\n",
        "print(f'Tiveram {faltas} faltas')"
      ],
      "execution_count": 64,
      "outputs": [
        {
          "output_type": "stream",
          "text": [
            "Tiveram 41646 faltas\n"
          ],
          "name": "stdout"
        }
      ]
    },
    {
      "cell_type": "markdown",
      "metadata": {
        "id": "9f_sGiFYEwgx"
      },
      "source": [
        "- Dos estudantes matriculados, quantos não realizaram a prova, por estado?"
      ]
    },
    {
      "cell_type": "code",
      "metadata": {
        "id": "ddV_Kl2yEwgx",
        "outputId": "af5d4df8-d412-4c1b-a99d-bf2d1fca0e3f",
        "colab": {
          "base_uri": "https://localhost:8080/"
        }
      },
      "source": [
        "enem98['SG_UF_RESIDENCIA'][idx].value_counts()"
      ],
      "execution_count": 65,
      "outputs": [
        {
          "output_type": "execute_result",
          "data": {
            "text/plain": [
              "RJ    14612\n",
              "MG     8733\n",
              "PR     6072\n",
              "PE     4630\n",
              "RN     1908\n",
              "SP     1412\n",
              "MT      534\n",
              "RR      421\n",
              "ES      363\n",
              "SC      312\n",
              "AC      202\n",
              "RS      197\n",
              "AM      101\n",
              "MS       89\n",
              "SE       55\n",
              "CE       45\n",
              "DF       44\n",
              "PA       40\n",
              "GO       36\n",
              "PI       35\n",
              "PB       34\n",
              "AL       14\n",
              "RO       12\n",
              "MA       10\n",
              "BA       10\n",
              "TO        4\n",
              "AP        1\n",
              "Name: SG_UF_RESIDENCIA, dtype: int64"
            ]
          },
          "metadata": {
            "tags": []
          },
          "execution_count": 65
        }
      ]
    },
    {
      "cell_type": "markdown",
      "metadata": {
        "id": "xcFXuxKLEwgx"
      },
      "source": [
        "- Qual é idade do(a) estudante mais velho(a)?"
      ]
    },
    {
      "cell_type": "code",
      "metadata": {
        "id": "NL6RwFqNEwgy",
        "outputId": "39060c9b-fa6c-4ae9-ad85-7d47e48e0d65",
        "colab": {
          "base_uri": "https://localhost:8080/"
        }
      },
      "source": [
        "mais_velho = enem98['NU_IDADE'].max()\n",
        "print(f'O estudante mais velho tinha {mais_velho} anos')"
      ],
      "execution_count": 67,
      "outputs": [
        {
          "output_type": "stream",
          "text": [
            "O estudante mais velho tinha 67.0 anos\n"
          ],
          "name": "stdout"
        }
      ]
    },
    {
      "cell_type": "markdown",
      "metadata": {
        "id": "OCmv61w1Ewgy"
      },
      "source": [
        "- Quantos estudantes empatam com a idade mais velha?"
      ]
    },
    {
      "cell_type": "code",
      "metadata": {
        "id": "uAOP1PuwEwgy",
        "outputId": "49872238-9486-4a2d-a1e4-28d26c6a8f86",
        "colab": {
          "base_uri": "https://localhost:8080/"
        }
      },
      "source": [
        "idx = enem98['NU_IDADE'] == mais_velho\n",
        "num_estudantes_velhos = enem98[idx].count().unique()\n",
        "print(f'tem {num_estudantes_velhos} estudantes com a idade mais velha {mais_velho} anos')"
      ],
      "execution_count": 73,
      "outputs": [
        {
          "output_type": "stream",
          "text": [
            "tem [3] estudantes com a idade mais velha 67.0 anos\n"
          ],
          "name": "stdout"
        }
      ]
    },
    {
      "cell_type": "markdown",
      "metadata": {
        "id": "AkEcDWdYEwgz"
      },
      "source": [
        "- Os estudantes com a idade mais mais velha são de quais estados?"
      ]
    },
    {
      "cell_type": "code",
      "metadata": {
        "id": "Eanw56pMEwg1",
        "outputId": "9ec3b8a0-a687-439a-9f2d-3e7d8c6f7845",
        "colab": {
          "base_uri": "https://localhost:8080/"
        }
      },
      "source": [
        "enem98[idx]['SG_UF_RESIDENCIA'].value_counts()"
      ],
      "execution_count": 74,
      "outputs": [
        {
          "output_type": "execute_result",
          "data": {
            "text/plain": [
              "PR    1\n",
              "SP    1\n",
              "RJ    1\n",
              "Name: SG_UF_RESIDENCIA, dtype: int64"
            ]
          },
          "metadata": {
            "tags": []
          },
          "execution_count": 74
        }
      ]
    },
    {
      "cell_type": "markdown",
      "metadata": {
        "id": "LT1X8ZVfEwg3"
      },
      "source": [
        "- Qual é a idade do(a) estudante mais novo(a) do Paraná?"
      ]
    },
    {
      "cell_type": "code",
      "metadata": {
        "id": "bmONtMvAEwg3",
        "outputId": "30555502-d573-4a2f-ddee-d6ba37a67d69",
        "colab": {
          "base_uri": "https://localhost:8080/"
        }
      },
      "source": [
        "idx = enem98['SG_UF_RESIDENCIA'] == 'PR'\n",
        "mais_novo_pr = enem98[idx]['NU_IDADE'].min()\n",
        "print(f'O estudante mais novo do paraná tinha {mais_novo_pr} anos')"
      ],
      "execution_count": 78,
      "outputs": [
        {
          "output_type": "stream",
          "text": [
            "O estudante mais novo do paraná tinha 10.0 anos\n"
          ],
          "name": "stdout"
        }
      ]
    },
    {
      "cell_type": "markdown",
      "metadata": {
        "id": "LO05plfIEwg3"
      },
      "source": [
        "- Quantos estudantes possuem a mesma idade do estudante mais novo no Paraná?"
      ]
    },
    {
      "cell_type": "code",
      "metadata": {
        "id": "KMkPbblMEwg4",
        "outputId": "04b878ff-d42b-47fa-e42a-6dcf73ab1637",
        "colab": {
          "base_uri": "https://localhost:8080/"
        }
      },
      "source": [
        "idx = enem98['SG_UF_RESIDENCIA'] == 'PR'\n",
        "idy = enem98['NU_IDADE'] == mais_novo_pr\n",
        "num_estudantes_novos_pr = enem98[idx][idy].count().unique()\n",
        "print(f'tem {num_estudantes_novos_pr} estudantes com a idade mais nova, {mais_novo_pr} anos')"
      ],
      "execution_count": 89,
      "outputs": [
        {
          "output_type": "stream",
          "text": [
            "tem [4] estudantes com a idade mais nova, 10.0 anos\n"
          ],
          "name": "stdout"
        },
        {
          "output_type": "stream",
          "text": [
            "/usr/local/lib/python3.7/dist-packages/ipykernel_launcher.py:3: UserWarning: Boolean Series key will be reindexed to match DataFrame index.\n",
            "  This is separate from the ipykernel package so we can avoid doing imports until\n"
          ],
          "name": "stderr"
        }
      ]
    },
    {
      "cell_type": "markdown",
      "metadata": {
        "id": "US_mTfuuEwg5"
      },
      "source": [
        "- De quais cidades são os estudantes com a menor idade?"
      ]
    },
    {
      "cell_type": "code",
      "metadata": {
        "id": "sXq8LISdEwg5",
        "outputId": "e981c2aa-4710-4f85-807b-6fd8f308c208",
        "colab": {
          "base_uri": "https://localhost:8080/"
        }
      },
      "source": [
        "mais_novo = enem98['NU_IDADE'].min()\n",
        "idx = enem98['NU_IDADE'] == mais_novo\n",
        "enem98[idx]['SG_UF_RESIDENCIA'].value_counts()"
      ],
      "execution_count": 95,
      "outputs": [
        {
          "output_type": "execute_result",
          "data": {
            "text/plain": [
              "RJ    5\n",
              "PR    4\n",
              "PE    2\n",
              "MG    2\n",
              "Name: SG_UF_RESIDENCIA, dtype: int64"
            ]
          },
          "metadata": {
            "tags": []
          },
          "execution_count": 95
        }
      ]
    },
    {
      "cell_type": "markdown",
      "metadata": {
        "id": "cWJwVY51Ewg5"
      },
      "source": [
        "- No Paraná, qual a porcentagem de estudantes por sexo?"
      ]
    },
    {
      "cell_type": "code",
      "metadata": {
        "id": "84Wq81vpEwg7",
        "outputId": "2c094438-f7ba-412b-8488-344c73a4e82c",
        "colab": {
          "base_uri": "https://localhost:8080/"
        }
      },
      "source": [
        "idx = enem98['SG_UF_RESIDENCIA'] == 'PR'\n",
        "m = enem98['TP_SEXO'] =='M'\n",
        "f = enem98['TP_SEXO'] =='F'\n",
        "M = enem98[idx][m].count().unique()[0]\n",
        "F = enem98[idx][f].count().unique()[0]\n",
        "total = enem98[idx].count().unique()[0]\n",
        "\n",
        "porcentagem_homem = (M*100)/total\n",
        "porcentagem_mulher = (F*100)/total\n",
        "print(f\"Porcentagem homem: {round(porcentagem_homem,2)} | Porcentagem mulher: {round(porcentagem_mulher,2)}\")"
      ],
      "execution_count": 126,
      "outputs": [
        {
          "output_type": "stream",
          "text": [
            "/usr/local/lib/python3.7/dist-packages/ipykernel_launcher.py:4: UserWarning: Boolean Series key will be reindexed to match DataFrame index.\n",
            "  after removing the cwd from sys.path.\n",
            "/usr/local/lib/python3.7/dist-packages/ipykernel_launcher.py:5: UserWarning: Boolean Series key will be reindexed to match DataFrame index.\n",
            "  \"\"\"\n"
          ],
          "name": "stderr"
        },
        {
          "output_type": "stream",
          "text": [
            "Porcentagem homem: 40.1 | Porcentagem mulher: 59.9\n"
          ],
          "name": "stdout"
        }
      ]
    }
  ]
}